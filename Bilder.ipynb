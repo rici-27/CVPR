{
 "cells": [
  {
   "cell_type": "code",
   "execution_count": 2,
   "metadata": {},
   "outputs": [],
   "source": [
    "import numpy as np\n",
    "import pandas as pd\n",
    "import matplotlib.pyplot as plt"
   ]
  },
  {
   "cell_type": "code",
   "execution_count": null,
   "metadata": {},
   "outputs": [
    {
     "name": "stdout",
     "output_type": "stream",
     "text": [
      "Gespeicherte Arrays: ['boxes']\n",
      "Array 'boxes': Shape (6,)\n"
     ]
    }
   ],
   "source": [
    "data = np.load(\"/Users/ricardabuttmann/Desktop/CVPR/SegFM3D/3D_train_boxes/CT/CT_Abdomen1K/CT_Abdomen1K_Case_00004.npz\", allow_pickle=True)\n",
    "\n",
    "print(\"Gespeicherte Arrays:\", list(data.keys()))\n",
    "\n",
    "for key in data:\n",
    "    print(f\"Array '{key}': Shape {data[key].shape}\")\n",
    "\n",
    "# imgs = data[\"imgs\"]  \n",
    "# boxes = data[\"boxes\"]\n",
    "\n",
    "\n",
    "# print(\"Image Format:\", imgs.shape)\n"
   ]
  }
 ],
 "metadata": {
  "kernelspec": {
   "display_name": ".venv",
   "language": "python",
   "name": "python3"
  },
  "language_info": {
   "codemirror_mode": {
    "name": "ipython",
    "version": 3
   },
   "file_extension": ".py",
   "mimetype": "text/x-python",
   "name": "python",
   "nbconvert_exporter": "python",
   "pygments_lexer": "ipython3",
   "version": "3.11.0"
  }
 },
 "nbformat": 4,
 "nbformat_minor": 2
}
