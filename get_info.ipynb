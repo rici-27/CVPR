{
 "cells": [
  {
   "cell_type": "code",
   "execution_count": 1,
   "metadata": {},
   "outputs": [],
   "source": [
    "import numpy as np\n",
    "import pandas as pd\n",
    "import matplotlib.pyplot as plt\n",
    "import os\n",
    "import shutil\n",
    "import re"
   ]
  },
  {
   "cell_type": "markdown",
   "metadata": {},
   "source": [
    "Bestimmung der Namen und Anzahl von Elementen"
   ]
  },
  {
   "cell_type": "code",
   "execution_count": 2,
   "metadata": {},
   "outputs": [
    {
     "name": "stdout",
     "output_type": "stream",
     "text": [
      "CT_AMOS_amos \t 30\n",
      "CT_AbdTumor_Adrenal \t 5\n",
      "CT_AbdTumor_HCC \t 5\n",
      "CT_AbdTumor_PETCT \t 45\n",
      "CT_AbdTumor_case \t 48\n",
      "CT_AbdTumor_colon \t 12\n",
      "CT_AbdTumor_hepaticvessel \t 29\n",
      "CT_AbdTumor_liver \t 14\n",
      "CT_AbdTumor_pancreas \t 34\n",
      "CT_AbdomenAtlas_BDMAP \t 100\n",
      "CT_AirwayTree_ATM \t 19\n",
      "CT_Aorta_Aorta \t 5\n",
      "CT_COVID-19 \t 21\n",
      "CT_GTVpEnhance_segrap \t 14\n",
      "CT_GTVpNCCT_segrap \t 10\n",
      "CT_HaN-Seg_case \t 4\n",
      "CT_LNQ_LymphNode \t 27\n",
      "CT_LungLesions \t 16\n",
      "CT_LungMasks \t 46\n",
      "CT_TCIA-LCTSC_LCTSC \t 6\n",
      "CT_TotalSeg_cardiac \t 117\n",
      "CT_TotalSeg_muscles \t 121\n",
      "CT_TotalSeg_organs \t 117\n",
      "CT_totalseg-vertebrae \t 61\n"
     ]
    }
   ],
   "source": [
    "hauptordner = \"/Users/ricardabuttmann/Desktop/CVPR/SegFM3D/3D_val_gt_interactive_seg/CT\"\n",
    "\n",
    "unterordner = sorted([name for name in os.listdir(hauptordner) if os.path.isdir(os.path.join(hauptordner, name))])\n",
    "\n",
    "for ordner in unterordner:\n",
    "    ordnerpfad = os.path.join(hauptordner, ordner)\n",
    "\n",
    "    anzahl_npz = sum(1 for f in os.listdir(ordnerpfad) if f.endswith(\".npz\") and os.path.isfile(os.path.join(ordnerpfad, f)))\n",
    "    \n",
    "    print(f\"{ordner} \\t {anzahl_npz}\")  "
   ]
  },
  {
   "cell_type": "markdown",
   "metadata": {},
   "source": [
    "Bestimmung der Größe der Bilder:"
   ]
  },
  {
   "cell_type": "code",
   "execution_count": null,
   "metadata": {},
   "outputs": [],
   "source": [
    "hauptordner = \"/Users/ricardabuttmann/Desktop/CVPR/SegFM3D/3D_val_npz/US\"\n",
    "unterordner = sorted([name for name in os.listdir(hauptordner) if os.path.isdir(os.path.join(hauptordner, name))])\n",
    "\n",
    "for ordner in unterordner:\n",
    "    ordnerpfad = os.path.join(hauptordner, ordner)\n",
    "\n",
    "    objekte = sorted(os.listdir(ordnerpfad))\n",
    "    \n",
    "    shapes = []\n",
    "\n",
    "    for n in range(len(objekte)):\n",
    "        objekt = objekte[n]\n",
    "        objekt_pfad = os.path.join(ordnerpfad, objekt)\n",
    "\n",
    "        if os.path.isfile(objekt_pfad):\n",
    "        # Beispiel: Wenn es eine npz-Datei ist, mit numpy einlesen\n",
    "            data = np.load(objekt_pfad, allow_pickle=True)\n",
    "        else:\n",
    "            print(f\"{objekt} ist kein Datei.\")\n",
    "        \n",
    "        imgs = data[\"imgs\"]\n",
    "\n",
    "        # Hole die Shape des ersten Bildes\n",
    "        img_shape = imgs[0].shape\n",
    "        \n",
    "        # Falls die Shape noch nicht in der Liste ist, hinzufügen\n",
    "        if img_shape not in shapes:\n",
    "            shapes.append(img_shape)\n",
    "\n",
    "    print(shapes)\n",
    "\n"
   ]
  },
  {
   "cell_type": "markdown",
   "metadata": {},
   "source": [
    "Ordner in 3D_val_gt_interactive_seg sortieren"
   ]
  },
  {
   "cell_type": "code",
   "execution_count": null,
   "metadata": {},
   "outputs": [],
   "source": [
    "hauptordner = \"/Users/ricardabuttmann/Desktop/CVPR/SegFM3D/3D_val_gt_interactive_seg\"\n",
    "\n",
    "for datei in os.listdir(hauptordner):\n",
    "\n",
    "    dateipfad = os.path.join(hauptordner, datei)\n",
    "\n",
    "    if os.path.isfile(dateipfad) and datei.endswith(\".npz\"):\n",
    "\n",
    "       unterordner_name =  datei.split(\"_\")[0]\n",
    "       unterordner_pfad = os.path.join(hauptordner, unterordner_name)\n",
    "       os.makedirs(unterordner_pfad, exist_ok=True)\n",
    "\n",
    "       ziel_pfad = os.path.join(unterordner_pfad, datei)\n",
    "       shutil.move(dateipfad, ziel_pfad)\n",
    "       print(f\"'{datei}' wurde nach '{unterordner_name}' verschoben.\")\n",
    "\n"
   ]
  },
  {
   "cell_type": "markdown",
   "metadata": {},
   "source": [
    "Unterunterordner erstellen"
   ]
  },
  {
   "cell_type": "code",
   "execution_count": 10,
   "metadata": {},
   "outputs": [],
   "source": [
    "val_ordner = \"/Users/ricardabuttmann/Desktop/CVPR/SegFM3D/3D_val_npz\"\n",
    "val_gt_ordner = \"/Users/ricardabuttmann/Desktop/CVPR/SegFM3D/3D_val_gt_interactive_seg\"\n",
    "\n",
    "ordner_list = sorted([name for name in os.listdir(val_ordner) if os.path.isdir(os.path.join(val_ordner, name))])\n",
    "#print(ordner_list)\n",
    "\n",
    "for ordner in ordner_list:\n",
    "    ordner_path = os.path.join(val_ordner, ordner)\n",
    "    val_unterordner = sorted([name for name in os.listdir(ordner_path) if os.path.isdir(os.path.join(ordner_path, name))])\n",
    "    #print(val_unterordner)\n",
    "\n",
    "    for unterordner in val_unterordner:\n",
    "        unterordner_pfad = os.path.join(val_gt_ordner, ordner, unterordner)\n",
    "        os.makedirs(unterordner_pfad, exist_ok=True)\n",
    "\n",
    "        ziel_pfad = os.path.join(unterordner_pfad, datei)\n",
    "        shutil.move(dateipfad, ziel_pfad)\n"
   ]
  },
  {
   "cell_type": "markdown",
   "metadata": {},
   "source": [
    "Dateien in Unterunterordner packen"
   ]
  },
  {
   "cell_type": "code",
   "execution_count": null,
   "metadata": {},
   "outputs": [],
   "source": [
    "hauptordner = \"/Users/ricardabuttmann/Desktop/CVPR/SegFM3D/3D_val_gt_interactive_seg\"\n",
    "\n",
    "ordner = sorted([name for name in os.listdir(hauptordner) if os.path.isdir(os.path.join(hauptordner, name))])\n",
    "print(ordner)\n",
    "\n",
    "for unterordner in ordner:\n",
    "    print(unterordner)\n",
    "    unterordner_pfad = os.path.join(hauptordner, unterordner)\n",
    "    print(unterordner_pfad)\n",
    "\n",
    "    uu_list = sorted([name for name in os.listdir(unterordner_pfad) if os.path.isdir(os.path.join(unterordner_pfad,name))])\n",
    "    print(uu_list)\n",
    "\n",
    "    dateien_liste = sorted([name for name in os.listdir(unterordner_pfad) if name.endswith(\".npz\")])\n",
    "\n",
    "    for datei in dateien_liste:\n",
    "        for uu in uu_list:\n",
    "            if datei.startswith(uu):\n",
    "\n",
    "                dateipfad = os.path.join(unterordner_pfad, datei)\n",
    "                ziel_pfad = os.path.join(unterordner_pfad, uu, datei)\n",
    "\n",
    "                shutil.move(dateipfad, ziel_pfad)\n",
    "                print(f\"'{datei}' wurde nach '{uu}' verschoben.\")\n",
    "\n",
    "                    \n"
   ]
  },
  {
   "cell_type": "markdown",
   "metadata": {},
   "source": [
    "Durchschnittliche Anzahl an Slices in einem Unterunterordner"
   ]
  },
  {
   "cell_type": "code",
   "execution_count": null,
   "metadata": {},
   "outputs": [],
   "source": [
    "hauptordner = \"/Users/ricardabuttmann/Desktop/CVPR/SegFM3D/3D_val_npz/US\"\n",
    "unterordner = sorted([name for name in os.listdir(hauptordner) if os.path.isdir(os.path.join(hauptordner, name))])\n",
    "\n",
    "for ordner in unterordner:\n",
    "    ordnerpfad = os.path.join(hauptordner, ordner)\n",
    "\n",
    "    objekte = sorted(os.listdir(ordnerpfad))\n",
    "    \n",
    "    sum_slices = 0\n",
    "    slices_max = 0\n",
    "    slices_min = 1000\n",
    "    slices_list = []\n",
    "\n",
    "    for n in range(len(objekte)):\n",
    "        objekt = objekte[n]\n",
    "\n",
    "        objekt_pfad = os.path.join(ordnerpfad, objekt)\n",
    "\n",
    "        if os.path.isfile(objekt_pfad) and objekt.endswith(\".npz\"):\n",
    "        # Beispiel: Wenn es eine npz-Datei ist, mit numpy einlesen\n",
    "            data = np.load(objekt_pfad, allow_pickle=True)\n",
    "        \n",
    "        imgs = data[\"imgs\"]\n",
    "\n",
    "\n",
    "        sum_slices = sum_slices + len(imgs)\n",
    "        slices_max = max(slices_max, len(imgs))\n",
    "        slices_min = min(slices_min, len(imgs))\n",
    "\n",
    "        if len(imgs) not in slices_list:\n",
    "            slices_list.append(len(imgs))\n",
    "\n",
    "    number_of_slices = sum_slices/len(objekte)\n",
    "    print(f\"{slices_min} \\t {int(round(number_of_slices, 0))} \\t {slices_max}\")\n",
    "    # print(slices_list) (nicht so hilfreich)\n",
    "\n"
   ]
  },
  {
   "cell_type": "markdown",
   "metadata": {},
   "source": [
    "Jetzt bestimme ich die Anzahl der Boxen:"
   ]
  },
  {
   "cell_type": "code",
   "execution_count": 11,
   "metadata": {},
   "outputs": [
    {
     "name": "stdout",
     "output_type": "stream",
     "text": [
      "3 \t 3 \t 3\n",
      "3 \t 3 \t 3\n"
     ]
    }
   ],
   "source": [
    "hauptordner = \"/Users/ricardabuttmann/Desktop/CVPR/SegFM3D/3D_train_boxes/US\"\n",
    "unterordner = sorted([name for name in os.listdir(hauptordner) if os.path.isdir(os.path.join(hauptordner, name))])\n",
    "\n",
    "for ordner in unterordner:\n",
    "    \n",
    "    ordnerpfad = os.path.join(hauptordner, ordner)\n",
    "\n",
    "    objekte = sorted(os.listdir(ordnerpfad))\n",
    "    \n",
    "    sum_boxes = 0\n",
    "    boxes_max = 0\n",
    "    boxes_min = 1000\n",
    "\n",
    "    for objekt in objekte:\n",
    "\n",
    "        objekt_pfad = os.path.join(ordnerpfad, objekt)\n",
    "\n",
    "        if os.path.isfile(objekt_pfad) and objekt.endswith(\".npz\"):\n",
    "        # Beispiel: Wenn es eine npz-Datei ist, mit numpy einlesen\n",
    "            data = np.load(objekt_pfad, allow_pickle=True)\n",
    "        \n",
    "        if \"boxes\" in data:\n",
    "            boxes = data[\"boxes\"]\n",
    "        else:\n",
    "            break\n",
    "\n",
    "        sum_boxes = sum_boxes + len(boxes)\n",
    "        boxes_max = max(boxes_max, len(boxes))\n",
    "        boxes_min = min(boxes_min, len(boxes))\n",
    "\n",
    "    number_of_boxes = sum_boxes/len(objekte)\n",
    "    print(f\"{boxes_min} \\t {int(round(number_of_boxes, 0))} \\t {boxes_max}\")\n",
    "\n"
   ]
  },
  {
   "cell_type": "markdown",
   "metadata": {},
   "source": [
    "Durchschnittliche Tiefe der Boxen bestimmen:"
   ]
  },
  {
   "cell_type": "code",
   "execution_count": 10,
   "metadata": {},
   "outputs": [
    {
     "name": "stdout",
     "output_type": "stream",
     "text": [
      "18\n",
      "850\n"
     ]
    }
   ],
   "source": [
    "import os\n",
    "import numpy as np\n",
    "\n",
    "hauptordner = \"/Users/ricardabuttmann/Desktop/CVPR/SegFM3D/3D_train_boxes/US\"\n",
    "unterordner = sorted([name for name in os.listdir(hauptordner) if os.path.isdir(os.path.join(hauptordner, name))])\n",
    "\n",
    "\n",
    "for ordner in unterordner:\n",
    "    \n",
    "    ordnerpfad = os.path.join(hauptordner, ordner)\n",
    "    objekte = sorted(os.listdir(ordnerpfad))\n",
    "\n",
    "    \n",
    "    sum_tiefe_boxen = 0\n",
    "\n",
    "    for n in range(len(objekte)):\n",
    "        objekt = objekte[n]\n",
    "\n",
    "        objekt_pfad = os.path.join(ordnerpfad, objekt)\n",
    "\n",
    "        if os.path.isfile(objekt_pfad) and objekt.endswith(\".npz\"):\n",
    "        # Beispiel: Wenn es eine npz-Datei ist, mit numpy einlesen\n",
    "            data = np.load(objekt_pfad, allow_pickle=True)\n",
    "        \n",
    "        if \"boxes\" in data:\n",
    "            boxes = data[\"boxes\"]\n",
    "        else:\n",
    "            break\n",
    "        \n",
    "        sum = 0\n",
    "\n",
    "        for i in range(len(boxes)):\n",
    "            tiefe = boxes[i][\"z_max\"] - boxes[i][\"z_min\"]\n",
    "            #print(tiefe)\n",
    "            sum = sum + tiefe\n",
    "        tiefe_temp = sum / len(boxes)\n",
    "\n",
    "        sum_tiefe_boxen = sum_tiefe_boxen + tiefe_temp\n",
    "\n",
    "    tiefe_boxen = sum_tiefe_boxen/len(objekte)\n",
    "    print(int(round(tiefe_boxen,0)))"
   ]
  }
 ],
 "metadata": {
  "kernelspec": {
   "display_name": ".venv",
   "language": "python",
   "name": "python3"
  },
  "language_info": {
   "codemirror_mode": {
    "name": "ipython",
    "version": 3
   },
   "file_extension": ".py",
   "mimetype": "text/x-python",
   "name": "python",
   "nbconvert_exporter": "python",
   "pygments_lexer": "ipython3",
   "version": "3.11.0"
  }
 },
 "nbformat": 4,
 "nbformat_minor": 2
}
